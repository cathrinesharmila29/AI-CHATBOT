{
 "cells": [
  {
   "cell_type": "code",
   "execution_count": 2,
   "id": "5a1fb0d8-ccb3-49d4-a9fa-e334d9571d69",
   "metadata": {},
   "outputs": [
    {
     "name": "stderr",
     "output_type": "stream",
     "text": [
      "\n",
      "[notice] A new release of pip is available: 25.0.1 -> 25.1.1\n",
      "[notice] To update, run: python.exe -m pip install --upgrade pip\n"
     ]
    }
   ],
   "source": []
  },
  {
   "cell_type": "code",
   "execution_count": 1,
   "id": "19e38695-6577-4a76-aae9-2791315769c7",
   "metadata": {},
   "outputs": [
    {
     "name": "stderr",
     "output_type": "stream",
     "text": [
      "\n",
      "[notice] A new release of pip is available: 25.0.1 -> 25.1.1\n",
      "[notice] To update, run: python.exe -m pip install --upgrade pip\n"
     ]
    }
   ],
   "source": [
    "! pip install streamlit --quiet"
   ]
  },
  {
   "cell_type": "code",
   "execution_count": 2,
   "id": "8d48ce5b-a1b2-4607-ac9c-b0e89f233c29",
   "metadata": {},
   "outputs": [
    {
     "name": "stdout",
     "output_type": "stream",
     "text": [
      "Requirement already satisfied: streamlit in c:\\users\\shilpa\\appdata\\local\\programs\\python\\python310\\lib\\site-packages (1.45.1)\n",
      "Requirement already satisfied: altair<6,>=4.0 in c:\\users\\shilpa\\appdata\\local\\programs\\python\\python310\\lib\\site-packages (from streamlit) (5.5.0)\n",
      "Requirement already satisfied: blinker<2,>=1.5.0 in c:\\users\\shilpa\\appdata\\local\\programs\\python\\python310\\lib\\site-packages (from streamlit) (1.9.0)\n",
      "Requirement already satisfied: cachetools<6,>=4.0 in c:\\users\\shilpa\\appdata\\local\\programs\\python\\python310\\lib\\site-packages (from streamlit) (5.5.2)\n",
      "Requirement already satisfied: click<9,>=7.0 in c:\\users\\shilpa\\appdata\\local\\programs\\python\\python310\\lib\\site-packages (from streamlit) (8.1.8)\n",
      "Requirement already satisfied: numpy<3,>=1.23 in c:\\users\\shilpa\\appdata\\local\\programs\\python\\python310\\lib\\site-packages (from streamlit) (2.2.4)\n",
      "Requirement already satisfied: packaging<25,>=20 in c:\\users\\shilpa\\appdata\\local\\programs\\python\\python310\\lib\\site-packages (from streamlit) (24.2)\n",
      "Requirement already satisfied: pandas<3,>=1.4.0 in c:\\users\\shilpa\\appdata\\local\\programs\\python\\python310\\lib\\site-packages (from streamlit) (2.2.3)\n",
      "Requirement already satisfied: pillow<12,>=7.1.0 in c:\\users\\shilpa\\appdata\\local\\programs\\python\\python310\\lib\\site-packages (from streamlit) (11.1.0)\n",
      "Requirement already satisfied: protobuf<7,>=3.20 in c:\\users\\shilpa\\appdata\\local\\programs\\python\\python310\\lib\\site-packages (from streamlit) (6.31.0)\n",
      "Requirement already satisfied: pyarrow>=7.0 in c:\\users\\shilpa\\appdata\\local\\programs\\python\\python310\\lib\\site-packages (from streamlit) (20.0.0)\n",
      "Requirement already satisfied: requests<3,>=2.27 in c:\\users\\shilpa\\appdata\\local\\programs\\python\\python310\\lib\\site-packages (from streamlit) (2.32.3)\n",
      "Requirement already satisfied: tenacity<10,>=8.1.0 in c:\\users\\shilpa\\appdata\\local\\programs\\python\\python310\\lib\\site-packages (from streamlit) (9.1.2)\n",
      "Requirement already satisfied: toml<2,>=0.10.1 in c:\\users\\shilpa\\appdata\\local\\programs\\python\\python310\\lib\\site-packages (from streamlit) (0.10.2)\n",
      "Requirement already satisfied: typing-extensions<5,>=4.4.0 in c:\\users\\shilpa\\appdata\\local\\programs\\python\\python310\\lib\\site-packages (from streamlit) (4.13.0)\n",
      "Requirement already satisfied: watchdog<7,>=2.1.5 in c:\\users\\shilpa\\appdata\\local\\programs\\python\\python310\\lib\\site-packages (from streamlit) (6.0.0)\n",
      "Requirement already satisfied: gitpython!=3.1.19,<4,>=3.0.7 in c:\\users\\shilpa\\appdata\\local\\programs\\python\\python310\\lib\\site-packages (from streamlit) (3.1.44)\n",
      "Requirement already satisfied: pydeck<1,>=0.8.0b4 in c:\\users\\shilpa\\appdata\\local\\programs\\python\\python310\\lib\\site-packages (from streamlit) (0.9.1)\n",
      "Requirement already satisfied: tornado<7,>=6.0.3 in c:\\users\\shilpa\\appdata\\local\\programs\\python\\python310\\lib\\site-packages (from streamlit) (6.5)\n",
      "Requirement already satisfied: jinja2 in c:\\users\\shilpa\\appdata\\local\\programs\\python\\python310\\lib\\site-packages (from altair<6,>=4.0->streamlit) (3.1.6)\n",
      "Requirement already satisfied: jsonschema>=3.0 in c:\\users\\shilpa\\appdata\\local\\programs\\python\\python310\\lib\\site-packages (from altair<6,>=4.0->streamlit) (4.23.0)\n",
      "Requirement already satisfied: narwhals>=1.14.2 in c:\\users\\shilpa\\appdata\\local\\programs\\python\\python310\\lib\\site-packages (from altair<6,>=4.0->streamlit) (1.40.0)\n",
      "Requirement already satisfied: colorama in c:\\users\\shilpa\\appdata\\local\\programs\\python\\python310\\lib\\site-packages (from click<9,>=7.0->streamlit) (0.4.6)\n",
      "Requirement already satisfied: gitdb<5,>=4.0.1 in c:\\users\\shilpa\\appdata\\local\\programs\\python\\python310\\lib\\site-packages (from gitpython!=3.1.19,<4,>=3.0.7->streamlit) (4.0.12)\n",
      "Requirement already satisfied: python-dateutil>=2.8.2 in c:\\users\\shilpa\\appdata\\local\\programs\\python\\python310\\lib\\site-packages (from pandas<3,>=1.4.0->streamlit) (2.9.0.post0)\n",
      "Requirement already satisfied: pytz>=2020.1 in c:\\users\\shilpa\\appdata\\local\\programs\\python\\python310\\lib\\site-packages (from pandas<3,>=1.4.0->streamlit) (2025.2)\n",
      "Requirement already satisfied: tzdata>=2022.7 in c:\\users\\shilpa\\appdata\\local\\programs\\python\\python310\\lib\\site-packages (from pandas<3,>=1.4.0->streamlit) (2025.2)\n",
      "Requirement already satisfied: charset-normalizer<4,>=2 in c:\\users\\shilpa\\appdata\\local\\programs\\python\\python310\\lib\\site-packages (from requests<3,>=2.27->streamlit) (3.4.1)\n",
      "Requirement already satisfied: idna<4,>=2.5 in c:\\users\\shilpa\\appdata\\local\\programs\\python\\python310\\lib\\site-packages (from requests<3,>=2.27->streamlit) (3.10)\n",
      "Requirement already satisfied: urllib3<3,>=1.21.1 in c:\\users\\shilpa\\appdata\\local\\programs\\python\\python310\\lib\\site-packages (from requests<3,>=2.27->streamlit) (2.3.0)\n",
      "Requirement already satisfied: certifi>=2017.4.17 in c:\\users\\shilpa\\appdata\\local\\programs\\python\\python310\\lib\\site-packages (from requests<3,>=2.27->streamlit) (2025.1.31)\n",
      "Requirement already satisfied: smmap<6,>=3.0.1 in c:\\users\\shilpa\\appdata\\local\\programs\\python\\python310\\lib\\site-packages (from gitdb<5,>=4.0.1->gitpython!=3.1.19,<4,>=3.0.7->streamlit) (5.0.2)\n",
      "Requirement already satisfied: MarkupSafe>=2.0 in c:\\users\\shilpa\\appdata\\local\\programs\\python\\python310\\lib\\site-packages (from jinja2->altair<6,>=4.0->streamlit) (3.0.2)\n",
      "Requirement already satisfied: attrs>=22.2.0 in c:\\users\\shilpa\\appdata\\local\\programs\\python\\python310\\lib\\site-packages (from jsonschema>=3.0->altair<6,>=4.0->streamlit) (25.3.0)\n",
      "Requirement already satisfied: jsonschema-specifications>=2023.03.6 in c:\\users\\shilpa\\appdata\\local\\programs\\python\\python310\\lib\\site-packages (from jsonschema>=3.0->altair<6,>=4.0->streamlit) (2025.4.1)\n",
      "Requirement already satisfied: referencing>=0.28.4 in c:\\users\\shilpa\\appdata\\local\\programs\\python\\python310\\lib\\site-packages (from jsonschema>=3.0->altair<6,>=4.0->streamlit) (0.36.2)\n",
      "Requirement already satisfied: rpds-py>=0.7.1 in c:\\users\\shilpa\\appdata\\local\\programs\\python\\python310\\lib\\site-packages (from jsonschema>=3.0->altair<6,>=4.0->streamlit) (0.25.1)\n",
      "Requirement already satisfied: six>=1.5 in c:\\users\\shilpa\\appdata\\local\\programs\\python\\python310\\lib\\site-packages (from python-dateutil>=2.8.2->pandas<3,>=1.4.0->streamlit) (1.17.0)\n"
     ]
    },
    {
     "name": "stderr",
     "output_type": "stream",
     "text": [
      "\n",
      "[notice] A new release of pip is available: 25.0.1 -> 25.1.1\n",
      "[notice] To update, run: python.exe -m pip install --upgrade pip\n"
     ]
    }
   ],
   "source": [
    "!pip install streamlit"
   ]
  },
  {
   "cell_type": "code",
   "execution_count": 3,
   "id": "2ec4657a-2333-4b3b-8d51-11116af8aa2b",
   "metadata": {},
   "outputs": [
    {
     "name": "stdout",
     "output_type": "stream",
     "text": [
      "Overwriting vicky.py\n"
     ]
    }
   ],
   "source": [
    "%%writefile vicky.py\n",
    "import streamlit as st\n",
    "import subprocess\n",
    "import os\n",
    "import json\n",
    "import requests\n",
    "\n",
    "# --- Helper functions for Streamlit ---\n",
    "def install_ollama():\n",
    "    \"\"\"Installs Ollama. Handles potential errors and displays status in Streamlit.\"\"\"\n",
    "    try:\n",
    "        st.sidebar.info(\"🔄 Installing Ollama...\")\n",
    "        subprocess.run([\"curl\", \"-fsSL\", \"https://ollama.ai/install.sh\", \"|\", \"sh\"], shell=True, check=True, capture_output=True, text=True)\n",
    "        st.sidebar.success(\"✅ Ollama installed successfully!\")\n",
    "    except subprocess.CalledProcessError as e:\n",
    "        st.sidebar.error(f\"❌ Error installing Ollama: {e.stderr}\")\n",
    "        st.stop()\n",
    "    except Exception as e:\n",
    "        st.sidebar.error(f\"⚠️ An unexpected error occurred during Ollama installation: {e}\")\n",
    "        st.stop()\n",
    "\n",
    "\n",
    "def load_ollama_model(model_name):\n",
    "    \"\"\"Loads the specified Ollama model. Handles errors and displays status in Streamlit.\"\"\"\n",
    "    try:\n",
    "        st.sidebar.info(f\"🚀 Loading model '{model_name}'...\")\n",
    "        subprocess.run([\"ollama\", \"pull\", model_name], check=True, capture_output=True, text=True)\n",
    "        st.sidebar.success(f\"✅ Model '{model_name}' loaded successfully!\")\n",
    "    except subprocess.CalledProcessError as e:\n",
    "        st.sidebar.error(f\"❌ Error loading model '{model_name}': {e.stderr}\")\n",
    "        st.stop()\n",
    "    except Exception as e:\n",
    "        st.sidebar.error(f\"⚠️ An unexpected error occurred while loading the model: {e}\")\n",
    "        st.stop()\n",
    "\n",
    "\n",
    "def chat_with_deepseek(model=\"deepseek-r1:1.5b\", max_words=400, prompt=\"\"):\n",
    "    \"\"\"\n",
    "    Chats with a DeepSeek model using the Ollama API with streaming,\n",
    "    limiting the output to a maximum number of words and ensuring responses are in English.\n",
    "    \"\"\"\n",
    "    try:\n",
    "        url = \"http://localhost:11434/api/generate\"\n",
    "        system_prompt = \"Respond only in English.\"\n",
    "        data = {\n",
    "            \"prompt\": f\"{system_prompt}\\n{prompt}\",\n",
    "            \"model\": model,\n",
    "            \"stream\": True,\n",
    "        }\n",
    "        response = requests.post(url, json=data, stream=True)\n",
    "\n",
    "        if response.status_code == 200:\n",
    "            full_response = \"\"\n",
    "            output_area = st.empty()\n",
    "            for line in response.iter_lines():\n",
    "                if line:\n",
    "                    try:\n",
    "                        json_data = json.loads(line.decode('utf-8'))\n",
    "                        chunk = json_data.get('response', '')\n",
    "                        full_response += chunk\n",
    "                        output_area.write(full_response)\n",
    "                    except json.JSONDecodeError:\n",
    "                        print(f\"⚠️ Error decoding JSON: {line}\")\n",
    "            words = full_response.split()\n",
    "            return \" \".join(words[:max_words]).strip()\n",
    "        else:\n",
    "            st.error(f\"❌ Error: {response.status_code} - {response.text}\")\n",
    "            return None\n",
    "    except Exception as e:\n",
    "        st.error(f\"⚠️ An error occurred: {e}\")\n",
    "        return None\n",
    "\n",
    "# --- Streamlit App ---\n",
    "st.title(\"🤖 Dynamic FAQ Generator\")\n",
    "if \"chat_history\" not in st.session_state:\n",
    "    st.session_state[\"chat_history\"] = []\n",
    "if \"current_response\" not in st.session_state:\n",
    "    st.session_state[\"current_response\"] = \"\"\n",
    "\n",
    "try:\n",
    "    subprocess.run([\"ollama\", \"-v\"], check=True, capture_output=True)\n",
    "except FileNotFoundError:\n",
    "    install_ollama()\n",
    "except subprocess.CalledProcessError:\n",
    "    install_ollama()\n",
    "\n",
    "model_name = st.sidebar.text_input(\"🧠 Model Name (e.g., deepseek-r1:1.5b):\", \"deepseek-r1:1.5b\")\n",
    "load_ollama_model(model_name)\n",
    "\n",
    "max_words = st.sidebar.number_input(\"🔡 Maximum Response Words:\", min_value=50, max_value=500, value=200, step=50)\n",
    "\n",
    "uploaded_file = st.file_uploader(\"📂 Upload a text file\", type=[\"txt\"])\n",
    "file_content = \"\"\n",
    "if uploaded_file is not None:\n",
    "    try:\n",
    "        file_content = uploaded_file.read().decode(\"utf-8\")\n",
    "        st.success(\"✅ File uploaded successfully!\")\n",
    "    except Exception as e:\n",
    "        st.error(f\"❌ Error reading uploaded file: {e}\")\n",
    "\n",
    "prompt = st.text_area(\"💬 Enter your query:\", \"\")\n",
    "\n",
    "full_prompt = f\"📖 Context from uploaded file:\\n{file_content}\\n\\n💭 User Query:\\n{prompt}\" if file_content else prompt\n",
    "\n",
    "if st.button(\"🚀 Get Response\"):\n",
    "    if full_prompt:\n",
    "        with st.spinner(\"🔍 Generating response...\"):\n",
    "            response = chat_with_deepseek(model=model_name, max_words=max_words, prompt=full_prompt)\n",
    "        if response:\n",
    "            st.session_state[\"chat_history\"].append({\"prompt\": full_prompt, \"response\": response})\n",
    "            st.session_state[\"current_response\"] = response\n",
    "        else:\n",
    "            st.error(\"❌ Failed to get a response from the model.\")\n",
    "    else:\n",
    "        st.warning(\"⚠️ Please enter a query or upload a file.\")\n",
    "\n",
    "if st.button(\"🧹 Clear Response\"):\n",
    "    st.session_state[\"current_response\"] = \"\"\n",
    "\n",
    "st.subheader(\"📜 Chat History\")\n",
    "for chat in reversed(st.session_state[\"chat_history\"]):\n",
    "    st.markdown(f\"👤 **You:** {chat['prompt']}\")\n",
    "    st.markdown(f\"🤖 **DeepSeek:** {chat['response']}\")\n",
    "    st.markdown(\"---\")\n",
    "\n",
    "if st.button(\"🗑️ Clear Chat History\"):\n",
    "    st.session_state[\"chat_history\"] = []\n"
   ]
  },
  {
   "cell_type": "code",
   "execution_count": null,
   "id": "af428648-6954-4202-b6c4-d8cc633f6e6d",
   "metadata": {},
   "outputs": [],
   "source": [
    "!streamlit run vicky.py & npx locatunnel --port 8501"
   ]
  },
  {
   "cell_type": "code",
   "execution_count": null,
   "id": "db767cf4-999f-43b9-b726-27189bc5f59e",
   "metadata": {},
   "outputs": [],
   "source": []
  }
 ],
 "metadata": {
  "kernelspec": {
   "display_name": "Python 3 (ipykernel)",
   "language": "python",
   "name": "python3"
  },
  "language_info": {
   "codemirror_mode": {
    "name": "ipython",
    "version": 3
   },
   "file_extension": ".py",
   "mimetype": "text/x-python",
   "name": "python",
   "nbconvert_exporter": "python",
   "pygments_lexer": "ipython3",
   "version": "3.10.11"
  }
 },
 "nbformat": 4,
 "nbformat_minor": 5
}
